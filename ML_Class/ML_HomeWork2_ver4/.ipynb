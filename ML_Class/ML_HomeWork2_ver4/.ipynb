{
 "cells": [
  {
   "cell_type": "code",
   "execution_count": 2,
   "id": "83f4f305-69bd-400f-bf56-7c7a54eb1f65",
   "metadata": {},
   "outputs": [
    {
     "name": "stdin",
     "output_type": "stream",
     "text": [
      "Please enter 0 for logistic or 1 for softmax:  0\n"
     ]
    },
    {
     "name": "stdout",
     "output_type": "stream",
     "text": [
      "Running logistic np unit test...\n",
      "Reading vehicle data...\n",
      "EOF Reached\n",
      "Done reading\n",
      "Testing normalize_per_pixel: Passed.\n",
      "----------------------------------------\n",
      "Reading vehicle data...\n",
      "EOF Reached\n",
      "Done reading\n",
      "Testing normalize_all_pixel: Passed.\n",
      "----------------------------------------\n",
      "Testing reshape2D: Failed.\n",
      "Your array is\n",
      "[[ 86.667  65.667 ... 113.333 115.333]\n",
      " [ 91.    146.    ...  76.     66.333]\n",
      " ...\n",
      " [ 77.333  58.333 ... 143.    142.   ]\n",
      " [189.667 133.667 ...  89.667 138.   ]]\n",
      "\n",
      "While it should be\n",
      "[[-8.610e-01 -1.188e+00 ... -4.462e-01 -4.151e-01]\n",
      " [-7.936e-01  6.191e-02 ... -1.027e+00 -1.177e+00]\n",
      " ...\n",
      " [-1.006e+00 -1.302e+00 ...  1.524e-02 -3.117e-04]\n",
      " [ 7.412e-01 -1.299e-01 ... -8.144e-01 -6.253e-02]]\n"
     ]
    }
   ],
   "source": [
    "%run unit_test.py"
   ]
  },
  {
   "cell_type": "code",
   "execution_count": null,
   "id": "562e5cfe-4ca2-438d-910e-e9ec2c6d507d",
   "metadata": {},
   "outputs": [],
   "source": []
  }
 ],
 "metadata": {
  "kernelspec": {
   "display_name": "Python 3",
   "language": "python",
   "name": "python3"
  },
  "language_info": {
   "codemirror_mode": {
    "name": "ipython",
    "version": 3
   },
   "file_extension": ".py",
   "mimetype": "text/x-python",
   "name": "python",
   "nbconvert_exporter": "python",
   "pygments_lexer": "ipython3",
   "version": "3.7.10"
  }
 },
 "nbformat": 4,
 "nbformat_minor": 5
}
